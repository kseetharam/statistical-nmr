{
 "cells": [
  {
   "cell_type": "code",
   "execution_count": 35,
   "metadata": {},
   "outputs": [],
   "source": [
    "import numpy as np\n",
    "\n",
    "import matplotlib.pyplot as plt\n",
    "\n",
    "from scipy.sparse import lil_matrix, diags, csc_matrix, triu\n",
    "\n",
    "from scipy.sparse.linalg import eigsh, expm_multiply\n",
    "from scipy.optimize import minimize as minimize\n",
    "\n",
    "from jax import jit\n",
    "\n",
    "import jax.numpy as jnp\n",
    "from jax import grad, jit, vmap, jacfwd#, jacrev\n",
    "from jax.scipy.linalg import expm\n",
    "\n",
    "from jax.lax import fori_loop\n",
    "\n",
    "from BuildLattices import *"
   ]
  },
  {
   "cell_type": "code",
   "execution_count": 7,
   "metadata": {},
   "outputs": [
    {
     "data": {
      "text/plain": [
       "<322x60 sparse matrix of type '<class 'numpy.float64'>'\n",
       "\twith 322 stored elements in Compressed Sparse Row format>"
      ]
     },
     "execution_count": 7,
     "metadata": {},
     "output_type": "execute_result"
    }
   ],
   "source": [
    "# let's build a 1D lattice (with unit-cell two.)\n",
    "\n",
    "# Ruby lattice\n",
    "uc = np.array([\n",
    "            [0,0],\n",
    "            [1,0]\n",
    "    ])\n",
    "\n",
    "lv = np.array([\n",
    "                  [2,0],\n",
    "                  [0,0],\n",
    "])\n",
    "\n",
    "latpoints = np.array([\n",
    "                [1/2, 0],\n",
    "                [3/2, 0]                   \n",
    "])\n",
    "\n",
    "lat_far = Lattice2D(uc, lv, latpoints, 6, 1, 1.2)\n",
    "lat_far.make_positions()\n",
    "lat_far.build_operators()\n",
    "lat_far.build_LR_hamiltonian()\n",
    "lat_far.build_translation_isometry()\n",
    "\n",
    "lat_far.sym_iso"
   ]
  },
  {
   "cell_type": "code",
   "execution_count": 8,
   "metadata": {},
   "outputs": [],
   "source": [
    "def build_evolution(hyperparams):\n",
    "    ndiscr_per_step = hyperparams[\"ndiscr_per_step\"]\n",
    "    ncycles = hyperparams[\"ncycles\"]\n",
    "\n",
    "    T0 = hyperparams[\"T0\"]\n",
    "\n",
    "    # Let's construct the Hamiltonian and diagonalize it here.\n",
    "    lat = hyperparams[\"lat\"]\n",
    "    hx_sym = lat.sym_iso.conj().T @ lat.hx @ lat.sym_iso\n",
    "    ntot_sym = lat.sym_iso.conj().T @ lat.ntot @ lat.sym_iso\n",
    "\n",
    "    hx_l, hx_U = np.linalg.eigh(hx_sym.todense())\n",
    "    ntot_l, ntot_U = np.linalg.eigh(ntot_sym.todense())\n",
    "\n",
    "    psi0 = hyperparams[\"psi0\"] # initalize z2 state here\n",
    "\n",
    "    # these are some fixed pulse parameters\n",
    "    T = np.pi * 1.51 * T0\n",
    "    tau_list = jnp.array([1]) * (T/2)\n",
    "\n",
    "    # any variational (input) parameters should be included in params.\n",
    "    def apply_evolution(params, args):\n",
    "\n",
    "        def apply_cycle(t, psi):\n",
    "            # load from params what we want to do at tstep t\n",
    "            tau = tau_list[0] / ndiscr_per_step\n",
    "            det = params[t]\n",
    "\n",
    "            # apply the resulting evolution.\n",
    "            Rx = hx_U @ jnp.diag(jnp.exp(-1j * tau * hx_l)) @ hx_U.conj().T\n",
    "            Udet = ntot_U @ jnp.diag(jnp.exp(-1j * det * ntot_l)) @ ntot_U.conj().T\n",
    "\n",
    "            return jnp.dot(Udet, jnp.dot(Rx, psi))\n",
    "\n",
    "        \n",
    "        psi = jnp.copy(psi0)\n",
    "\n",
    "        psi_list = []\n",
    "        for n in range(ncycles):\n",
    "            psi = fori_loop(0, ndiscr_per_step, apply_cycle, psi) \n",
    "            psi_list.append(jnp.copy(psi))\n",
    "\n",
    "        # here, we return a list of the evolved states\n",
    "        # that way we can compute e.g. a time-integrated variance\n",
    "        return psi_list\n",
    "    \n",
    "    return jit(apply_evolution)\n"
   ]
  },
  {
   "cell_type": "code",
   "execution_count": null,
   "metadata": {},
   "outputs": [],
   "source": []
  },
  {
   "cell_type": "code",
   "execution_count": 28,
   "metadata": {},
   "outputs": [],
   "source": [
    "# \n",
    "def build_loss(hyperparams):\n",
    "\n",
    "    # generate observables of interest here.\n",
    "    lat = hyperparams[\"lat\"]\n",
    "\n",
    "    Sz = lat.n_sublat[0] - lat.n_sublat[1] # this is like Sz right?\n",
    "    Sz2 = Sz @ Sz\n",
    "\n",
    "    Sz = (lat.sym_iso.conj().T @ Sz @ lat.sym_iso).todense()\n",
    "    Sz2 = (lat.sym_iso.conj().T @ Sz2 @ lat.sym_iso).todense()\n",
    "\n",
    "    inds = np.argwhere((np.diag(Sz2) >= np.max(np.diag(Sz2))))[:,0]\n",
    "\n",
    "\n",
    "    Z2proj_mean = np.zeros(np.diag(Sz).shape)\n",
    "    Z2proj_mean[inds] = np.diag(Sz)[inds]\n",
    "    Z2proj_mean = np.diag(Z2proj_mean)\n",
    "\n",
    "    Z2proj_var = np.zeros(np.diag(Sz2).shape)\n",
    "    Z2proj_var[inds] = np.diag(Sz2)[inds]\n",
    "    Z2proj_var = np.diag(Z2proj_var)\n",
    "\n",
    "\n",
    "    # provide the time-evolution function here.\n",
    "    ev_floquet = hyperparams[\"ev_floquet\"]\n",
    "\n",
    "\n",
    "    def loss(params, args):\n",
    "        # apply time-evolution to get a list of parameters\n",
    "        psiout_list = ev_floquet(params, args)\n",
    "\n",
    "\n",
    "        # compute the time-integrated connected correlator\n",
    "        tot = 0\n",
    "        for psiout in psiout_list:\n",
    "            var_sz = jnp.dot(psiout.conj().T, jnp.dot(Sz2, psiout))[0,0]\n",
    "            exp_sz = jnp.dot(psiout.conj().T, jnp.dot(Sz, psiout))[0,0]\n",
    "            tot += -jnp.real(var_sz - exp_sz**2)\n",
    "\n",
    "        return tot\n",
    "\n",
    "    return jit(loss)\n",
    "\n"
   ]
  },
  {
   "cell_type": "code",
   "execution_count": 29,
   "metadata": {},
   "outputs": [],
   "source": [
    "def unit_vector(i, L):\n",
    "    vec = np.zeros(L).astype(np.complex128)\n",
    "    vec[i] = 1\n",
    "    return vec\n",
    "\n",
    "hyperparams = {}\n",
    "hyperparams[\"ndiscr_per_step\"] = 120\n",
    "hyperparams[\"ncycles\"] = 4\n",
    "hyperparams[\"lat\"] = lat_far\n",
    "hyperparams[\"T0\"] = 1.0\n",
    "\n",
    "i0 = np.argmax(lat_far.ntot.diagonal())\n",
    "psi_z2 = unit_vector(i0, lat_far.ntot.shape[0]).reshape((-1, 1))\n",
    "psi_z2 = hyperparams[\"lat\"].sym_iso.conj().T @ psi_z2\n",
    "hyperparams[\"psi0\"] = psi_z2\n",
    "\n",
    "ev_floquet = build_evolution(hyperparams)\n",
    "hyperparams[\"ev_floquet\"] = ev_floquet\n",
    "\n",
    "loss = build_loss(hyperparams)\n",
    "grad_loss = jit(grad(loss))"
   ]
  },
  {
   "cell_type": "code",
   "execution_count": 36,
   "metadata": {},
   "outputs": [],
   "source": [
    "params = np.ones(hyperparams[\"ndiscr_per_step\"]) * 0.1\n",
    "args = {}\n",
    "\n",
    "psi_grad = jacfwd(ev_floquet)\n",
    "\n",
    "qfi_matrix = psi_grad(params, args)"
   ]
  },
  {
   "cell_type": "code",
   "execution_count": 37,
   "metadata": {},
   "outputs": [
    {
     "name": "stdout",
     "output_type": "stream",
     "text": [
      "1.18 s ± 4.17 ms per loop (mean ± std. dev. of 7 runs, 1 loop each)\n"
     ]
    }
   ],
   "source": [
    "%timeit psi_grad(params, args)"
   ]
  },
  {
   "cell_type": "code",
   "execution_count": 31,
   "metadata": {},
   "outputs": [
    {
     "name": "stdout",
     "output_type": "stream",
     "text": [
      "42 ms ± 177 µs per loop (mean ± std. dev. of 7 runs, 10 loops each)\n"
     ]
    }
   ],
   "source": [
    "%timeit loss(params, args)"
   ]
  },
  {
   "cell_type": "code",
   "execution_count": 32,
   "metadata": {},
   "outputs": [
    {
     "name": "stdout",
     "output_type": "stream",
     "text": [
      "87.4 ms ± 662 µs per loop (mean ± std. dev. of 7 runs, 1 loop each)\n"
     ]
    }
   ],
   "source": [
    "%timeit grad_loss(params, args)"
   ]
  },
  {
   "cell_type": "code",
   "execution_count": 9,
   "metadata": {},
   "outputs": [
    {
     "data": {
      "text/plain": [
       "[<matplotlib.lines.Line2D at 0x162b4bcd0>]"
      ]
     },
     "execution_count": 9,
     "metadata": {},
     "output_type": "execute_result"
    },
    {
     "data": {
      "image/png": "[encoded data removed]",
      "text/plain": [
       "<Figure size 640x480 with 1 Axes>"
      ]
     },
     "metadata": {},
     "output_type": "display_data"
    }
   ],
   "source": [
    "params = {}\n",
    "T = np.pi * 1.51\n",
    "#params[\"tau\"] = np.array([1.0, 2.0, 1.0]) * (T / 8)\n",
    "params = np.ones(hyperparams[\"ndiscr_per_step\"]) * 0.1\n",
    "\n",
    "args = {}\n",
    "ev_floquet(params, args)\n",
    "\n",
    "plt.plot(grad_loss(params, args)[:])"
   ]
  },
  {
   "cell_type": "code",
   "execution_count": 10,
   "metadata": {},
   "outputs": [
    {
     "name": "stdout",
     "output_type": "stream",
     "text": [
      "-28.736027\n",
      "-82.08064270019531\n"
     ]
    }
   ],
   "source": [
    "print(loss(params, args))\n",
    "\n",
    "result = minimize(loss, params, args, method=\"BFGS\", \n",
    "                  jac=grad_loss)#, options={\"maxiter\":100})\n",
    "\n",
    "print(result.fun)"
   ]
  }
 ],
 "metadata": {
  "kernelspec": {
   "display_name": "qsim3",
   "language": "python",
   "name": "python3"
  },
  "language_info": {
   "codemirror_mode": {
    "name": "ipython",
    "version": 3
   },
   "file_extension": ".py",
   "mimetype": "text/x-python",
   "name": "python",
   "nbconvert_exporter": "python",
   "pygments_lexer": "ipython3",
   "version": "3.11.0"
  },
  "orig_nbformat": 4
 },
 "nbformat": 4,
 "nbformat_minor": 2
}
